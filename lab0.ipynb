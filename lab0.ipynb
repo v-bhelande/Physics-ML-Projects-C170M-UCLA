{
 "cells": [
  {
   "cell_type": "markdown",
   "metadata": {
    "nbgrader": {
     "grade": false,
     "grade_id": "intro_cell",
     "locked": true,
     "schema_version": 3,
     "solution": false,
     "task": false
    }
   },
   "source": [
    "## Lab 0 - Intro Tutorial\n",
    "\n",
    "This is the lab 0 notebook! It contains instructions for an icebreaker activity, introduces the format of subsequent lab assignments, and serves as practice for coding using Python in Jupyter Notebooks."
   ]
  },
  {
   "cell_type": "markdown",
   "metadata": {
    "nbgrader": {
     "grade": false,
     "grade_id": "cell-1",
     "locked": true,
     "schema_version": 3,
     "solution": false
    }
   },
   "source": [
    "## Icebreaker activity:\n",
    "(~7 minutes) \n",
    "* Get into your groups and figure out five things you have in common. You will share the most interesting thing you have in common when we reconvene. \n",
    "* Create a team name using an adjective + an animal (for example, Voracious Viper.)  If you need some suggestions, you can use this [random adjective generator](https://randomwordgenerator.com/adjective.php) and/or [animal generator](https://www.generatorslist.com/random/animals/random-animal-generator)."
   ]
  },
  {
   "cell_type": "markdown",
   "metadata": {
    "nbgrader": {
     "grade": false,
     "grade_id": "cell-ea6f94aef9373c47",
     "locked": true,
     "schema_version": 3,
     "solution": false
    }
   },
   "source": [
    "## Notebook Intro\n",
    "\n",
    "Here, you'll get some practice answering questions and validating your answers using error handling."
   ]
  },
  {
   "cell_type": "code",
   "execution_count": 1,
   "metadata": {
    "nbgrader": {
     "grade": false,
     "grade_id": "import_cell",
     "locked": true,
     "schema_version": 3,
     "solution": false,
     "task": false
    }
   },
   "outputs": [],
   "source": [
    "import numpy as np\n",
    "from numpy.testing import assert_raises, assert_equal"
   ]
  },
  {
   "cell_type": "markdown",
   "metadata": {
    "nbgrader": {
     "grade": false,
     "grade_id": "num_squares_instructions",
     "locked": true,
     "schema_version": 3,
     "solution": false,
     "task": false
    }
   },
   "source": [
    "In the cell below, write a function called ``num_squares`` that takes in one integer parameter $n$ and returns the square $n^2$.\n"
   ]
  },
  {
   "cell_type": "code",
   "execution_count": 2,
   "metadata": {
    "nbgrader": {
     "grade": false,
     "grade_id": "num_squares_function",
     "locked": false,
     "schema_version": 3,
     "solution": true,
     "task": false
    }
   },
   "outputs": [],
   "source": [
    "def num_squares(n):\n",
    "    ### BEGIN SOLUTION\n",
    "    return n**2\n",
    "    ### END SOLUTION"
   ]
  },
  {
   "cell_type": "code",
   "execution_count": 3,
   "metadata": {
    "nbgrader": {
     "grade": true,
     "grade_id": "num_squares_test1",
     "locked": true,
     "points": 1,
     "schema_version": 3,
     "solution": false,
     "task": false
    }
   },
   "outputs": [],
   "source": [
    "# (1pt.) Run cell to check that num_squares works for a few values. \n",
    "assert_equal(num_squares(2),4)\n",
    "assert_equal(num_squares(-5),25)\n",
    "assert_equal(num_squares(0),0)"
   ]
  },
  {
   "cell_type": "markdown",
   "metadata": {
    "nbgrader": {
     "grade": false,
     "grade_id": "list_func_instructions",
     "locked": true,
     "schema_version": 3,
     "solution": false,
     "task": false
    }
   },
   "source": [
    "In the cell below, write a function ``arr_func(n)``. The function should print an array with entries spanning the integers between $1$ and $n$ and return that array.  The arrray should be named ``arr``."
   ]
  },
  {
   "cell_type": "code",
   "execution_count": 4,
   "metadata": {
    "nbgrader": {
     "grade": false,
     "grade_id": "cell-892448a2483ca4bc",
     "locked": false,
     "schema_version": 3,
     "solution": true,
     "task": false
    }
   },
   "outputs": [],
   "source": [
    "# (1 pt) \n",
    "def arr_func(n):\n",
    "    ### BEGIN SOLUTION\n",
    "    arr = np.array(range(1,n+1))\n",
    "    return arr\n",
    "    ### END SOLUTION"
   ]
  },
  {
   "cell_type": "code",
   "execution_count": 5,
   "metadata": {
    "nbgrader": {
     "grade": true,
     "grade_id": "arr_functest",
     "locked": true,
     "points": 1,
     "schema_version": 3,
     "solution": false,
     "task": false
    }
   },
   "outputs": [],
   "source": [
    "#  Run this cell to check that arr_func returns the correct array\n",
    "assert_equal(arr_func(5), [1,2,3,4,5])\n",
    "assert_equal(arr_func(10), [1,2,3,4,5,6,7,8,9,10])"
   ]
  },
  {
   "cell_type": "markdown",
   "metadata": {
    "nbgrader": {
     "grade": false,
     "grade_id": "valerrorinstructions",
     "locked": true,
     "schema_version": 3,
     "solution": false,
     "task": false
    }
   },
   "source": [
    "In the cell below, write a function ``val_err(n)`` that raises a ``ValueError`` if the input $n$ is $<1$, and returns $n$ otherwise.\n",
    "Hint: add the following code.\n",
    "\n",
    "``\n",
    "if n < 1:\n",
    "    raise ValueError(\"n must be greater than or equal to 1 \")\n",
    "``\n",
    "\n",
    "Test this code out, and make sure you get the right error!"
   ]
  },
  {
   "cell_type": "code",
   "execution_count": 6,
   "metadata": {
    "nbgrader": {
     "grade": false,
     "grade_id": "value_error",
     "locked": false,
     "schema_version": 3,
     "solution": true,
     "task": false
    }
   },
   "outputs": [],
   "source": [
    "# (1 pt)\n",
    "def val_err(n):\n",
    "    ### BEGIN SOLUTION\n",
    "    if n < 1:\n",
    "        raise ValueError(\"n must be greater than or equal to 1 \")\n",
    "    return n\n",
    "    ### END SOLUTION"
   ]
  },
  {
   "cell_type": "code",
   "execution_count": 7,
   "metadata": {
    "nbgrader": {
     "grade": true,
     "grade_id": "valueerror_test",
     "locked": true,
     "points": 1,
     "schema_version": 3,
     "solution": false,
     "task": false
    }
   },
   "outputs": [],
   "source": [
    "# Run this cell to check if the function raises desired ValueError\n",
    "assert_raises(ValueError, val_err, -1)\n",
    "assert_equal(val_err(5),5)"
   ]
  },
  {
   "cell_type": "markdown",
   "metadata": {
    "nbgrader": {
     "grade": false,
     "grade_id": "squares_instructions",
     "locked": true,
     "schema_version": 3,
     "solution": false,
     "task": false
    }
   },
   "source": [
    "In the cell below, write a function ``squares`` that takes in an integer $n$. The function should create an array of integers spanning the interval $1$ to $n$ and return a *list* containing the squares of each entry of that array. For example, if $n=5$, the array should return the list ``[1 4 9 16 25]``. There are many ways to accomplish this task; for example, using list comprehension, loops, or NumPy methods.  You may use any method as long as it returns the correct list! Don't worry about the case $n=0$."
   ]
  },
  {
   "cell_type": "code",
   "execution_count": null,
   "metadata": {
    "nbgrader": {
     "grade": false,
     "grade_id": "squares_def",
     "locked": false,
     "schema_version": 3,
     "solution": true,
     "task": false
    }
   },
   "outputs": [],
   "source": [
    "# (1 pt)\n",
    "def squares(n):\n",
    "    ### BEGIN SOLUTION\n",
    "    da_list = []\n",
    "    for i in range(n):\n",
    "        da_list.append((i+1)*(i+1))\n",
    "    return da_list\n",
    "    ### END SOLUTION"
   ]
  },
  {
   "cell_type": "markdown",
   "metadata": {},
   "source": [
    "In the cell below, create a variable called ``a`` and set it equal to ``squares(5)``."
   ]
  },
  {
   "cell_type": "code",
   "execution_count": 9,
   "metadata": {},
   "outputs": [],
   "source": [
    "a = squares(5)"
   ]
  },
  {
   "cell_type": "code",
   "execution_count": 10,
   "metadata": {
    "nbgrader": {
     "grade": true,
     "grade_id": "squares_test",
     "locked": true,
     "points": 1,
     "schema_version": 3,
     "solution": false,
     "task": false
    }
   },
   "outputs": [],
   "source": [
    "# Run this cell to check that your squares(n) function returns the correct list. \n",
    "assert_equal(a, [1,4,9,16,25])"
   ]
  },
  {
   "cell_type": "markdown",
   "metadata": {
    "nbgrader": {
     "grade": false,
     "grade_id": "manual_answer_Q",
     "locked": true,
     "points": 1,
     "schema_version": 3,
     "solution": false,
     "task": true
    }
   },
   "source": [
    "To submit lab 0: save this notebook as a PDF using the print feature of your browser and submit to \"Lab 0: Intro to Notebooks\" on the Assignments page on BruinLearn."
   ]
  },
  {
   "cell_type": "code",
   "execution_count": 11,
   "metadata": {},
   "outputs": [
    {
     "name": "stdout",
     "output_type": "stream",
     "text": [
      "25\n"
     ]
    }
   ],
   "source": [
    "\"For Question 1, I asked ChatGPT: Write a function called num_squares that takes in one integer parameter n and returns the square n^2\"\n",
    "\n",
    "\"Here is ChatGPT's response:\"\n",
    "\n",
    "def num_squares(n):\n",
    "    return n ** 2\n",
    "\n",
    "# This function uses the exponentiation operator (**) to calculate the square of the input integer n. Feel free to try it out with different values!\"\n",
    "\n",
    "# Example usage:\n",
    "result = num_squares(5)\n",
    "print(result)\n",
    "\n",
    "# I give this a 4/4 rating for usefulness, accuracy, relevance, and details"
   ]
  },
  {
   "cell_type": "code",
   "execution_count": 12,
   "metadata": {},
   "outputs": [
    {
     "name": "stdout",
     "output_type": "stream",
     "text": [
      "[1, 2, 3, 4, 5]\n"
     ]
    }
   ],
   "source": [
    "\"\"\"For Question 2, I asked ChatGPT: Write a function arr_func(n). The function should print an array with entries spanning the \n",
    "integers between 1 and n and return that array. The array should be named arr.\"\"\"\n",
    "\n",
    "\"Here is ChatGPT's response:\"\n",
    "\n",
    "def arr_func(n):\n",
    "    arr = list(range(1, n+1))\n",
    "    print(arr)\n",
    "    return arr\n",
    "\n",
    "# This function uses the range function to generate a list of integers from 1 to n (inclusive). It then prints the array and returns it. \n",
    "# Feel free to try it out with different values for n!\n",
    "\n",
    "# Example usage:\n",
    "result_array = arr_func(5)\n",
    "\n",
    "# I give this a 4/4 rating for usefulness, accuracy, relevance, and details."
   ]
  },
  {
   "cell_type": "code",
   "execution_count": 13,
   "metadata": {},
   "outputs": [
    {
     "name": "stdout",
     "output_type": "stream",
     "text": [
      "5\n"
     ]
    }
   ],
   "source": [
    "\"\"\"For Question 3, I asked ChatGPT: Write a function val_err(n) that raises a \n",
    "ValueError if the input n is less than 1, and returns n otherwise.\"\"\"\n",
    "\n",
    "\n",
    "\"Here is ChatGPT's response:\"\n",
    "\n",
    "def val_err(n):\n",
    "    if n < 1:\n",
    "        raise ValueError(\"Input must be greater than or equal to 1\")\n",
    "    return n\n",
    "\n",
    "# In this function, an if statement checks if n is less than 1. If it is, a ValueError is raised with a corresponding error message. \n",
    "# Otherwise, the function returns n. Feel free to test it with different values for n!\n",
    "\n",
    "# Example usage:\n",
    "try:\n",
    "    result = val_err(5)\n",
    "    print(result)\n",
    "except ValueError as e:\n",
    "    print(e)\n",
    "\n",
    "# I give this a 4/4 rating for usefulness, accuracy, relevance, and details"
   ]
  },
  {
   "cell_type": "code",
   "execution_count": 14,
   "metadata": {},
   "outputs": [
    {
     "name": "stdout",
     "output_type": "stream",
     "text": [
      "[1, 4, 9, 16, 25]\n"
     ]
    }
   ],
   "source": [
    "\"\"\"For Question 4, I asked ChatGPT: Write a function squares that takes in an integer n. The function should create an array of integers spanning the \n",
    "interval 1 to n and return a list containing the squares of each entry of that array. Don't worry about the case n = 0.\"\"\"\n",
    "\n",
    "\"Here is ChatGPT's response:\"\n",
    "\n",
    "def squares(n):\n",
    "    arr = list(range(1, n+1))\n",
    "    square_list = [x ** 2 for x in arr]\n",
    "    return square_list\n",
    "\n",
    "# This function uses a list comprehension to calculate the square of each entry in the array generated by range(1, n+1). \n",
    "# The resulting list of squares is then returned. Feel free to try it out with different values for n!\n",
    "\n",
    "# Example usage:\n",
    "result_squares = squares(5)\n",
    "print(result_squares)\n",
    "\n",
    "# I give this a 4/4 rating for usefulness, accuracy, relevance, and details"
   ]
  }
 ],
 "metadata": {
  "celltoolbar": "Create Assignment",
  "kernelspec": {
   "display_name": "Python 3 (ipykernel)",
   "language": "python",
   "name": "python3"
  },
  "language_info": {
   "codemirror_mode": {
    "name": "ipython",
    "version": 3
   },
   "file_extension": ".py",
   "mimetype": "text/x-python",
   "name": "python",
   "nbconvert_exporter": "python",
   "pygments_lexer": "ipython3",
   "version": "3.11.7"
  }
 },
 "nbformat": 4,
 "nbformat_minor": 4
}
